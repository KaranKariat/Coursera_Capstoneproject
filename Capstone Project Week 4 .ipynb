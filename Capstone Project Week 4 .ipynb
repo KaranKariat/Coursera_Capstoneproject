{
    "nbformat_minor": 1, 
    "cells": [
        {
            "source": "## Battle of Neighborhoods Part 1", 
            "cell_type": "markdown", 
            "metadata": {
                "collapsed": true
            }
        }, 
        {
            "source": "## Introduction:", 
            "cell_type": "markdown", 
            "metadata": {}
        }, 
        {
            "source": "## The difficulty of discovering a place to live that meets all of our requirements and is upto our expectations is a very well known issue today. This issue is even further noticed in densely populated cities such as New York,Sydney,Vancouver etc. Any sort of help provided with narrowing the locations to our preferences is appreciated by the masses. In this sense, the use of location data to short-list places  that are to our prefereces would be a massive boon. In reagards to such an idea, I think that this kind of data would be appreciated massively amongst all the people, but also especially by travelling professionals whose job would require them to travel between cities at a short notice of time.\n\n## In this project, I will be using location data to help shortlist places to live based on the expenses and ameneties available at each location of interest. Shortlisting even  3-4 localities before arriving would in itself be a valuable asset to an individual.\n\n## The Problem: To find an apartment for rent in Manhattan, NYC that would have atleast 2 bedrooms, costs under USD 9000 a month,  and is located on a street with an abundance of amenities, and is at the  least distance from a subway station.\n\n", 
            "cell_type": "markdown", 
            "metadata": {}
        }, 
        {
            "source": "## Data Used: The data gathered includes the names of various neighborhoods on Manhattan, the stores, subway stations, and other amenities on those streets, the names and features of apartments located on those streets, their distances from the nearest subway stations, etc. A .csv file listing the various neighborhoods of Manhattan is converted into a dataframe and is used to study the various neighborhoods.\n\n## A list of apartments in Manhattan was compiled by browsing through various real estate websites. Using the data obtained, a .csv file was created with information on the apartments themselves, their geodata, latitudes and longitudes of the nearest subway stations, etc.\n\n## Foursquare data is used to find the top 10 apartments in Manhattan neighborhoods with the desired criteria. Nearest subway station, stores, etc. are shown around the apartment. Apartment addresses are converted to geodata in terms of latitude and longitude.", 
            "cell_type": "markdown", 
            "metadata": {}
        }, 
        {
            "execution_count": null, 
            "cell_type": "code", 
            "metadata": {}, 
            "outputs": [], 
            "source": ""
        }
    ], 
    "metadata": {
        "kernelspec": {
            "display_name": "Python 3.6", 
            "name": "python3", 
            "language": "python"
        }, 
        "language_info": {
            "mimetype": "text/x-python", 
            "nbconvert_exporter": "python", 
            "version": "3.6.8", 
            "name": "python", 
            "file_extension": ".py", 
            "pygments_lexer": "ipython3", 
            "codemirror_mode": {
                "version": 3, 
                "name": "ipython"
            }
        }
    }, 
    "nbformat": 4
}